{
  "nbformat": 4,
  "nbformat_minor": 0,
  "metadata": {
    "colab": {
      "name": "cycle2.ipynb",
      "provenance": [],
      "collapsed_sections": []
    },
    "kernelspec": {
      "name": "python3",
      "display_name": "Python 3"
    }
  },
  "cells": [
    {
      "cell_type": "code",
      "metadata": {
        "colab": {
          "base_uri": "https://localhost:8080/"
        },
        "id": "KIm72R5SJYEU",
        "outputId": "490fa097-b603-4c60-8dcd-13e3f74336eb"
      },
      "source": [
        "print(\"enter your address\")\n",
        "housename=input(\"enter your house name: \")\n",
        "p=input(\"enter your postoffice: \")\n",
        "c=input(\"enter your city: \")\n",
        "d=input(\"enter your district: \")\n",
        "state=input(\"enter your state: \")\n",
        "pincode=int(input(\"enter your pincode: \"))\n",
        "country=input(\"enter your county: \")\n",
        "\n",
        "print(\"Address:\\n\",housename,\",\\n\",p,\",\\n\",c,\",\\n\",d,\",\\n\",state,\"-\",pincode,\",\\n\",country)"
      ],
      "execution_count": null,
      "outputs": [
        {
          "output_type": "stream",
          "text": [
            "enter your address\n",
            "enter your house name: vellappallil\n",
            "enter your postoffice: vadavathoor\n",
            "enter your city: kalathipady\n",
            "enter your district: kottayam\n",
            "enter your state: kerala\n",
            "enter your pincode: 686010\n",
            "enter your county: India\n",
            "Address:\n",
            " vellappallil ,\n",
            " vadavathoor ,\n",
            " kalathipady ,\n",
            " kottayam ,\n",
            " kerala - 686010 ,\n",
            " India\n"
          ],
          "name": "stdout"
        }
      ]
    },
    {
      "cell_type": "code",
      "metadata": {
        "id": "MBCCcVjLE7GL",
        "colab": {
          "base_uri": "https://localhost:8080/"
        },
        "outputId": "a3b48c98-4ade-48c1-8d12-764947420792"
      },
      "source": [
        "s=int(input(\"enter starting year: \"))\n",
        "e=int(input(\"enter ending year: \"))\n",
        "print(\"leap years between\",s,\"and\",e)\n",
        "while (s<=e):\n",
        "    if (s%4==0):\n",
        "      print(s)\n",
        "    s=s+1"
      ],
      "execution_count": null,
      "outputs": [
        {
          "output_type": "stream",
          "text": [
            "enter starting year: 2020\n",
            "enter ending year: 2030\n",
            "leap years between 2020 and 2030\n",
            "2020\n",
            "2024\n",
            "2028\n"
          ],
          "name": "stdout"
        }
      ]
    },
    {
      "cell_type": "code",
      "metadata": {
        "id": "_JnIIBJmb1WI"
      },
      "source": [
        ""
      ],
      "execution_count": null,
      "outputs": []
    },
    {
      "cell_type": "code",
      "metadata": {
        "colab": {
          "base_uri": "https://localhost:8080/"
        },
        "id": "LwT4ZmeUyGSi",
        "outputId": "41239025-40f4-4632-b85a-49c08acfb47f"
      },
      "source": [
        " \n",
        "list1 = [11, -21, 0, 45, 66, -93] \n",
        " \n",
        " for num in list1:  \n",
        " \n",
        "    if num >= 0: \n",
        "     print(num)"
      ],
      "execution_count": null,
      "outputs": [
        {
          "output_type": "stream",
          "text": [
            "11\n",
            "0\n",
            "45\n",
            "66\n"
          ],
          "name": "stdout"
        }
      ]
    },
    {
      "cell_type": "code",
      "metadata": {
        "colab": {
          "base_uri": "https://localhost:8080/"
        },
        "id": "T5y4EOxf2UPK",
        "outputId": "3dd613d7-7448-45d5-ebe0-ea478afd0237"
      },
      "source": [
        "word=input(\"enter a word: \")\n",
        "vowels=['a','e','i','o','u']\n",
        "list=[]\n",
        "for x in word:\n",
        "  if(x in vowels and x not in list):\n",
        "    list.append(x)\n",
        "print(\"vowels present in the given word is: \",list)"
      ],
      "execution_count": null,
      "outputs": [
        {
          "output_type": "stream",
          "text": [
            "enter a word: Reiok\n",
            "vowels present in the given word is:  ['e', 'i', 'o']\n"
          ],
          "name": "stdout"
        }
      ]
    },
    {
      "cell_type": "code",
      "metadata": {
        "colab": {
          "base_uri": "https://localhost:8080/"
        },
        "id": "6BcvUyIpy9QA",
        "outputId": "c5d9a284-f4d5-4188-9d2f-7368d3e531e7"
      },
      "source": [
        "x=[]\r\n",
        "n=int(input(\"enter list items : \"))\r\n",
        "for i in range(1,n+1):\r\n",
        "    a=int(input(\"enter the value of %d item : \"%i))\r\n",
        "    x.append(a*a)\r\n",
        "    print(x)\r\n"
      ],
      "execution_count": null,
      "outputs": [
        {
          "output_type": "stream",
          "text": [
            "enter list items : 3\n",
            "enter the value of 1 item : 2\n",
            "[4]\n",
            "enter the value of 2 item : 5\n",
            "[4, 25]\n",
            "enter the value of 3 item : 3\n",
            "[4, 25, 9]\n"
          ],
          "name": "stdout"
        }
      ]
    },
    {
      "cell_type": "code",
      "metadata": {
        "colab": {
          "base_uri": "https://localhost:8080/"
        },
        "id": "KW_cloAJKp_r",
        "outputId": "37b95825-d9e2-4c54-dc09-0e796a6e0632"
      },
      "source": [
        "t=input(\"enter any word : \")\n",
        "for l in range(len(t)) :\n",
        "  print(\"ASCII value is\",t[l],\"is\",ord(t[l]))"
      ],
      "execution_count": null,
      "outputs": [
        {
          "output_type": "stream",
          "text": [
            "enter any word : time\n",
            "ASCII value is t is 116\n",
            "ASCII value is i is 105\n",
            "ASCII value is m is 109\n",
            "ASCII value is e is 101\n"
          ],
          "name": "stdout"
        }
      ]
    },
    {
      "cell_type": "code",
      "metadata": {
        "colab": {
          "base_uri": "https://localhost:8080/"
        },
        "id": "ZiQEoQ3d3bIx",
        "outputId": "893fc36e-7632-49e5-eebc-91708708833c"
      },
      "source": [
        " \n",
        "def word_count(str):\n",
        "    counts = dict()\n",
        "    words = str.split()\n",
        " \n",
        "    for word in words:\n",
        "        if word in counts:\n",
        "            counts[word] += 1\n",
        "        else:\n",
        "            counts[word] = 1\n",
        "    return counts\n",
        "print( word_count('the time will be shown in given piod'))"
      ],
      "execution_count": null,
      "outputs": [
        {
          "output_type": "stream",
          "text": [
            "{'the': 1, 'time': 1, 'will': 1, 'be': 1, 'shown': 1, 'in': 1, 'given': 1, 'piod': 1}\n"
          ],
          "name": "stdout"
        }
      ]
    },
    {
      "cell_type": "code",
      "metadata": {
        "colab": {
          "base_uri": "https://localhost:8080/"
        },
        "id": "AqnZldccclW_",
        "outputId": "dbbfb4d1-9ec9-4ec2-aafc-e986e4105ed7"
      },
      "source": [
        "x=[]\r\n",
        "n=int(input(\"enter limit of the list \"))\r\n",
        "for i in range(1,n+1):\r\n",
        "    a=int(input(\"enter the value of %d item : \"%i))\r\n",
        "    if (a>100):\r\n",
        "     x.append('over')\r\n",
        "    else:\r\n",
        "     x.append(a)\r\n",
        "print(\" list \" ,x)"
      ],
      "execution_count": null,
      "outputs": [
        {
          "output_type": "stream",
          "text": [
            "enter limit of the list 3\n",
            "enter the value of 1 item : 30\n",
            "enter the value of 2 item : 90\n",
            "enter the value of 3 item : 700\n",
            " list  [30, 90, 'over']\n"
          ],
          "name": "stdout"
        }
      ]
    },
    {
      "cell_type": "code",
      "metadata": {
        "colab": {
          "base_uri": "https://localhost:8080/"
        },
        "id": "4y096sYYMIJh",
        "outputId": "a57a2421-d157-485d-dfb4-2e6b7efb4cba"
      },
      "source": [
        "l=[]\n",
        "x=int(input(\"enter the limit : \"))\n",
        "for i in range (1,x+1):\n",
        "  x=input(\"enter the first name : \")\n",
        "  l.append(x)\n",
        "  count = x.count('a')\n",
        "  print(\"number of time a is present in name:\",count);\n"
      ],
      "execution_count": null,
      "outputs": [
        {
          "output_type": "stream",
          "text": [
            "enter the limit : 2\n",
            "enter the first name : nemo\n",
            "number of time a is present in name: 0\n",
            "enter the first name : arjun\n",
            "number of time a is present in name: 1\n"
          ],
          "name": "stdout"
        }
      ]
    },
    {
      "cell_type": "code",
      "metadata": {
        "colab": {
          "base_uri": "https://localhost:8080/"
        },
        "id": "LlkijABSrdSL",
        "outputId": "ca0d50b5-9618-46bb-ead1-d19940848716"
      },
      "source": [
        "x=[]\r\n",
        "a=int(input(\"enter limit for list1 : \"))\r\n",
        "for i in range(1,a+1):\r\n",
        "  a=int(input())\r\n",
        "  x.append(a)\r\n",
        "print(x)\r\n",
        "y=[]\r\n",
        "b=int(input(\"enter limit for list2 : \"))\r\n",
        "for i in range(1,b+1):\r\n",
        "  b=int(input())\r\n",
        "  y.append(b)\r\n",
        "print(y)\r\n",
        "if (len(x)==len(y)):\r\n",
        "  print(\"list1 and list2 are of same length i.e.\",len(x))\r\n",
        "else:\r\n",
        "  print(\"list1 and list2 are of different length.\")\r\n",
        "if (sum(x)==sum(y)):\r\n",
        "  print(\"list1 and list2 sums to the same value i.e.\",sum(x))\r\n",
        "else:\r\n",
        "  print(\"list1 and list2 sums up to different values.\")\r\n",
        "def common(x, y): \r\n",
        "    p=set(x) \r\n",
        "    q=set(y) \r\n",
        "    if len(p.intersection(q)) > 0: \r\n",
        "        return(p.intersection(q))   \r\n",
        "    else: \r\n",
        "        return(\"no common elements\")  \r\n",
        "print(\"value that occur in both lists is/are :\",common(x,y))"
      ],
      "execution_count": null,
      "outputs": [
        {
          "output_type": "stream",
          "text": [
            "enter limit for list1 : 3\n",
            "4 \n",
            "6\n",
            "7\n",
            "[4, 6, 7]\n",
            "enter limit for list2 : 3\n",
            "5\n",
            "6\n",
            "8\n",
            "[5, 6, 8]\n",
            "list1 and list2 are of same length i.e. 3\n",
            "list1 and list2 sums up to different values.\n",
            "value that occur in both lists is/are : {6}\n"
          ],
          "name": "stdout"
        }
      ]
    },
    {
      "cell_type": "code",
      "metadata": {
        "id": "vdkcSQNVN-QM",
        "colab": {
          "base_uri": "https://localhost:8080/"
        },
        "outputId": "f2c882a2-7763-4c4d-db61-6a40e4003258"
      },
      "source": [
        "def change_char(str1):\n",
        "  char = str1[0]\n",
        "  str1 = str1.replace(char, '$')\n",
        "  str1 = char + str1[1:]\n",
        "  return str1\n",
        " \n",
        "print(change_char('restart'))"
      ],
      "execution_count": null,
      "outputs": [
        {
          "output_type": "stream",
          "text": [
            "resta$t\n"
          ],
          "name": "stdout"
        }
      ]
    },
    {
      "cell_type": "code",
      "metadata": {
        "id": "U4tYWYog3ldq",
        "colab": {
          "base_uri": "https://localhost:8080/"
        },
        "outputId": "7040aa95-84ec-4426-b915-98b5a5e0b384"
      },
      "source": [
        "def change_sring(str1):\n",
        "   return str1[-1:] + str1[1:-1] + str1[:1]\n",
        "\t  \n",
        "print(change_sring('abcd'))\n"
      ],
      "execution_count": null,
      "outputs": [
        {
          "output_type": "stream",
          "text": [
            "dbca\n"
          ],
          "name": "stdout"
        }
      ]
    },
    {
      "cell_type": "code",
      "metadata": {
        "id": "N2HL-6DYF4Cm",
        "colab": {
          "base_uri": "https://localhost:8080/"
        },
        "outputId": "dd538dc2-e1db-470f-a390-49ce50f4359e"
      },
      "source": [
        "r = float(input (\"Input the radius of the circle : \"))\n",
        "r=3.14*r*r\n",
        "print (r)"
      ],
      "execution_count": null,
      "outputs": [
        {
          "output_type": "stream",
          "text": [
            "Input the radius of the circle : 4\n",
            "50.24\n"
          ],
          "name": "stdout"
        }
      ]
    },
    {
      "cell_type": "code",
      "metadata": {
        "colab": {
          "base_uri": "https://localhost:8080/"
        },
        "id": "1jyg3no7STw6",
        "outputId": "d4841d96-7ca9-4d65-ac6e-363761e794e0"
      },
      "source": [
        "num1=int(input(\"enter the first number\"))\n",
        "num2=int(input(\"enter the second number \"))\n",
        "num3=int(input(\"enter the third number\"))\n",
        "if (num1 > num2) and (num1 > num3):\n",
        "   largest = num1\n",
        "elif (num2 > num1) and (num2 > num3):\n",
        "   largest = num2\n",
        "else:\n",
        "   largest = num3\n",
        " \n",
        "print(\"The largest number is\",largest)"
      ],
      "execution_count": null,
      "outputs": [
        {
          "output_type": "stream",
          "text": [
            "enter the first number5\n",
            "enter the second number 3\n",
            "enter the third number4\n",
            "The largest number is 5\n"
          ],
          "name": "stdout"
        }
      ]
    },
    {
      "cell_type": "code",
      "metadata": {
        "colab": {
          "base_uri": "https://localhost:8080/"
        },
        "id": "aAgm3LjOTki6",
        "outputId": "632f455f-16a6-47ae-c9f9-017f68e8fc12"
      },
      "source": [
        "fn= input(\"Enter Filename: \")\n",
        "f = fn.split(\".\")\n",
        "print (\"Extension of the file is : \" , f[1])\n",
        "\n"
      ],
      "execution_count": null,
      "outputs": [
        {
          "output_type": "stream",
          "text": [
            "Enter Filename: Duh.py\n",
            "Extension of the file is :  py\n"
          ],
          "name": "stdout"
        }
      ]
    },
    {
      "cell_type": "code",
      "metadata": {
        "colab": {
          "base_uri": "https://localhost:8080/"
        },
        "id": "oa3GLu8o2_sy",
        "outputId": "b2eea7db-6a09-414f-8b2d-d568a49899d3"
      },
      "source": [
        "c=[]\r\n",
        "x=int(input(\"enter limit for list : \"))\r\n",
        "for i in range(1,x+1):\r\n",
        "  a=input()\r\n",
        "  c.append(a)\r\n",
        "print(c)\r\n",
        "print(c[0],c[-1])"
      ],
      "execution_count": null,
      "outputs": [
        {
          "output_type": "stream",
          "text": [
            "enter limit for list : 3\n",
            "orange\n",
            "green\n",
            "red\n",
            "['orange', 'green', 'red']\n",
            "orange red\n"
          ],
          "name": "stdout"
        }
      ]
    },
    {
      "cell_type": "code",
      "metadata": {
        "colab": {
          "base_uri": "https://localhost:8080/"
        },
        "id": "MCcCRbxhUsd3",
        "outputId": "91f01ce5-ac59-4a95-a89f-20bd15c9aceb"
      },
      "source": [
        "a = int(input(\"Input an integer : \"))\n",
        "n1 = int( \"%s\" % a )\n",
        "n2 = int( \"%s%s\" %(a,a) )\n",
        "n3 = int( \"%s%s%s\" %(a,a,a) )\n",
        "print (n1+n2+n3)"
      ],
      "execution_count": null,
      "outputs": [
        {
          "output_type": "stream",
          "text": [
            "Input an integer : 4\n",
            "492\n"
          ],
          "name": "stdout"
        }
      ]
    },
    {
      "cell_type": "code",
      "metadata": {
        "colab": {
          "base_uri": "https://localhost:8080/"
        },
        "id": "jClImh5slqIy",
        "outputId": "4d2e7a29-50b0-4d9d-c19f-9530a547ec18"
      },
      "source": [
        "\r\n",
        "\r\n",
        "color_list_1 = set([\"White\", \"Black\", \"Red\"])\r\n",
        "color_list_2 = set([\"Red\", \"Green\"])\r\n",
        "\r\n",
        "print(color_list_1.difference(color_list_2))\r\n"
      ],
      "execution_count": null,
      "outputs": [
        {
          "output_type": "stream",
          "text": [
            "{'Black', 'White'}\n"
          ],
          "name": "stdout"
        }
      ]
    },
    {
      "cell_type": "code",
      "metadata": {
        "colab": {
          "base_uri": "https://localhost:8080/"
        },
        "id": "ZH2Atva6k1Q1",
        "outputId": "50ac3d05-9a8e-44d6-8114-d924ffcc697e"
      },
      "source": [
        "\r\n",
        "x=input(\"enter the first character : \")\r\n",
        "y=input(\"enter the second character : \")\r\n",
        "def swap(x,y): \r\n",
        "  a = y[:1] + x[1:]\r\n",
        "  b = x[:1] + y[1:]\r\n",
        "  return a + ' ' + b\r\n",
        "print(swap(x,y))"
      ],
      "execution_count": null,
      "outputs": [
        {
          "output_type": "stream",
          "text": [
            "enter the first character : time\n",
            "enter the second character : good\n",
            "gime tood\n"
          ],
          "name": "stdout"
        }
      ]
    },
    {
      "cell_type": "code",
      "metadata": {
        "colab": {
          "base_uri": "https://localhost:8080/"
        },
        "id": "_rXTWhLJvgvP",
        "outputId": "dd7c3780-1914-4387-8f46-09ca9cf4c00b"
      },
      "source": [
        "\r\n",
        "y={'carl':40,'alan':2,'bob':1,'danny':3} \r\n",
        "                                         \r\n",
        "l=sorted(y.items())   \r\n",
        "l.sort()            #sort the list\r\n",
        "print('Ascending order is',l) \r\n",
        "\r\n",
        "l=sorted(y.items())\r\n",
        "l.sort(reverse=True) \r\n",
        "print('Descending order is',l)\r\n",
        "\r\n",
        "\r\n",
        "print(\"Dictionary\",dict) "
      ],
      "execution_count": null,
      "outputs": [
        {
          "output_type": "stream",
          "text": [
            "Ascending order is [('alan', 2), ('bob', 1), ('carl', 40), ('danny', 3)]\n",
            "Descending order is [('danny', 3), ('carl', 40), ('bob', 1), ('alan', 2)]\n",
            "Dictionary {'danny': 3, 'carl': 40, 'bob': 1, 'alan': 2}\n"
          ],
          "name": "stdout"
        }
      ]
    },
    {
      "cell_type": "code",
      "metadata": {
        "colab": {
          "base_uri": "https://localhost:8080/"
        },
        "id": "V0odfr1VgyAg",
        "outputId": "1d718112-a0c7-470a-a2ed-21fc3ddf136c"
      },
      "source": [
        "d1 = {'Cricket':'Sachin', 'Football':'Zindane'}\r\n",
        "d2 = {'Tennis' : 'Roger', 'Basketball' : 'Jordan'}\r\n",
        "d3 = {**d1, **d2}\r\n",
        "d3\r\n"
      ],
      "execution_count": null,
      "outputs": [
        {
          "output_type": "execute_result",
          "data": {
            "text/plain": [
              "{'Basketball': 'Jordan',\n",
              " 'Cricket': 'Sachin',\n",
              " 'Football': 'Zindane',\n",
              " 'Tennis': 'Roger'}"
            ]
          },
          "metadata": {
            "tags": []
          },
          "execution_count": 58
        }
      ]
    },
    {
      "cell_type": "code",
      "metadata": {
        "colab": {
          "base_uri": "https://localhost:8080/"
        },
        "id": "SgpaFPuBf1y9",
        "outputId": "51463d9e-34a9-4a9b-c72e-553bce25630f"
      },
      "source": [
        "\r\n",
        "a=float(input(\"enter the first value : \"))\r\n",
        "b=float(input(\"enter the second value : \"))\r\n",
        "x=a\r\n",
        "y=b\r\n",
        "while (b != 0):\r\n",
        "  temp=b\r\n",
        "  b=a%b\r\n",
        "  a=temp\r\n",
        "gcd=a   \r\n",
        "print(\"GCD of\",x,\"and\",y,\"is\",gcd)"
      ],
      "execution_count": null,
      "outputs": [
        {
          "output_type": "stream",
          "text": [
            "enter the first value : 5\n",
            "enter the second value : 7\n",
            "GCD of 5.0 and 7.0 is 1.0\n"
          ],
          "name": "stdout"
        }
      ]
    },
    {
      "cell_type": "code",
      "metadata": {
        "colab": {
          "base_uri": "https://localhost:8080/"
        },
        "id": "1EdNW8mxe8Kb",
        "outputId": "0c797b64-762d-4a0f-f82f-bfa6f6083302"
      },
      "source": [
        "\r\n",
        "x=[]\r\n",
        "n=int(input(\"enter list limit : \"))\r\n",
        "for i in range(1,n+1):\r\n",
        "    a=int(input(\"enter the value of %d item : \"%i))\r\n",
        "    x.append(a)\r\n",
        "for i  in x:\r\n",
        "  if (i%2 == 0):\r\n",
        "    x.remove(i)\r\n",
        "print(\" list after removing even numbers :\",x)\r\n"
      ],
      "execution_count": null,
      "outputs": [
        {
          "output_type": "stream",
          "text": [
            "enter list limit : 3\n",
            "enter the value of 1 item : 6\n",
            "enter the value of 2 item : 7\n",
            "enter the value of 3 item : 8\n",
            " list after removing even numbers : [7]\n"
          ],
          "name": "stdout"
        }
      ]
    }
  ]
}