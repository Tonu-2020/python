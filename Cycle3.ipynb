{
  "nbformat": 4,
  "nbformat_minor": 0,
  "metadata": {
    "colab": {
      "name": "Cycle3.ipynb",
      "provenance": []
    },
    "kernelspec": {
      "name": "python3",
      "display_name": "Python 3"
    }
  },
  "cells": [
    {
      "cell_type": "code",
      "metadata": {
        "colab": {
          "base_uri": "https://localhost:8080/"
        },
        "id": "Ey_G17G2-wkp",
        "outputId": "015cc1d0-5b8a-4f3f-a2ae-9cfc4a88359d"
      },
      "source": [
        " \n",
        "n=int(input(\"enter any number : \"))\n",
        "fact=1\n",
        "i=1\n",
        "while i<=n:\n",
        "    fact=fact*i\n",
        "    i=i+1\n",
        "print(\"factorial of\",n,\"is\",fact)"
      ],
      "execution_count": null,
      "outputs": [
        {
          "output_type": "stream",
          "text": [
            "enter any number : 5\n",
            "factorial of 5 is 120\n"
          ],
          "name": "stdout"
        }
      ]
    },
    {
      "cell_type": "code",
      "metadata": {
        "colab": {
          "base_uri": "https://localhost:8080/"
        },
        "id": "ca-1CyRt-3ri",
        "outputId": "abff60bc-8a5b-4903-a174-386bdd9373a3"
      },
      "source": [
        " n=int(input(\"enter the value of n : \"))\n",
        "a=0\n",
        "b=1\n",
        "sum=0\n",
        "count=1\n",
        "print(\"fibonacci series : \")\n",
        "while (count<=n):\n",
        "  print(sum,end=\" \")\n",
        "  count+=1\n",
        "  a=b\n",
        "  b=sum\n",
        "  sum=a+b"
      ],
      "execution_count": null,
      "outputs": [
        {
          "output_type": "stream",
          "text": [
            "enter the value of n : 5\n",
            "fibonacci series : \n",
            "0 1 1 2 3 "
          ],
          "name": "stdout"
        }
      ]
    },
    {
      "cell_type": "code",
      "metadata": {
        "colab": {
          "base_uri": "https://localhost:8080/"
        },
        "id": "FxhwNOM5--o0",
        "outputId": "d5114592-7c71-45dd-a637-258666f25a65"
      },
      "source": [
        " \n",
        "NumList = []\n",
        "total = 0\n",
        " \n",
        "Number = int(input(\"Please enter the Total Number of List Elements : \"))\n",
        "for i in range(1, Number + 1):\n",
        "    value = int(input(\"Please enter the Value of %d Element : \" %i))\n",
        "    NumList.append(value)\n",
        " \n",
        "for j in range(Number):\n",
        "    total = total + NumList[j]\n",
        " \n",
        "print(\"\\n The Sum of All Element in this List is : \", total)"
      ],
      "execution_count": null,
      "outputs": [
        {
          "output_type": "stream",
          "text": [
            "Please enter the Total Number of List Elements : 3\n",
            "Please enter the Value of 1 Element : 4\n",
            "Please enter the Value of 2 Element : 5\n",
            "Please enter the Value of 3 Element : 6\n",
            "\n",
            " The Sum of All Element in this List is :  15\n"
          ],
          "name": "stdout"
        }
      ]
    },
    {
      "cell_type": "code",
      "metadata": {
        "colab": {
          "base_uri": "https://localhost:8080/"
        },
        "id": "kXCKxmIA_Ly0",
        "outputId": "0907851e-727a-4b49-9b63-ee715c9b399d"
      },
      "source": [
        " for i in range(1000,10000):\n",
        "  for j in range(32,100):\n",
        "    if i==j*j:\n",
        "      a=str(i)\n",
        "      if (int(a[0])%2==0 and int(a[1])%2==0 and int(a[2])%2==0 and int(a[3])%2==0):\n",
        "        print(i)"
      ],
      "execution_count": null,
      "outputs": [
        {
          "output_type": "stream",
          "text": [
            "4624\n",
            "6084\n",
            "6400\n",
            "8464\n"
          ],
          "name": "stdout"
        }
      ]
    },
    {
      "cell_type": "code",
      "metadata": {
        "colab": {
          "base_uri": "https://localhost:8080/"
        },
        "id": "tiI6cdB9_Nga",
        "outputId": "c9e510c8-6655-4218-c311-15d15f4dbf32"
      },
      "source": [
        " def py(n):\n",
        "  x=1\n",
        "  for i in range(1, n+1):\n",
        "    for j in range(1, i+1):\n",
        "      print(x, end=\" \")\n",
        "      x=x+i\n",
        "    x=i+1\n",
        "    print(\"\\r\")\n",
        " \n",
        "n=int(input(\"enter the limit : \"))\n",
        "py(n)"
      ],
      "execution_count": null,
      "outputs": [
        {
          "output_type": "stream",
          "text": [
            "enter the limit : 4\n",
            "1 \n",
            "2 4 \n",
            "3 6 9 \n",
            "4 8 12 16 \n"
          ],
          "name": "stdout"
        }
      ]
    },
    {
      "cell_type": "code",
      "metadata": {
        "colab": {
          "base_uri": "https://localhost:8080/"
        },
        "id": "6Smw9j93_47a",
        "outputId": "b759e7a9-67b1-4e97-e68b-2f7f146bd734"
      },
      "source": [
        " def freq(t):\n",
        "  t=t.lower()\n",
        "  dict={}\n",
        "  for ch in t :\n",
        "    keys = dict.keys()\n",
        "    if ch in keys :\n",
        "      dict[ch]+=1\n",
        "    else:\n",
        "      dict[ch]=1\n",
        "  return dict\n",
        "t=input(\"enter any string : \")\n",
        "print(\"the character frequency of the given string\",s,\"are :\")\n",
        "print(freq(t))"
      ],
      "execution_count": null,
      "outputs": [
        {
          "output_type": "stream",
          "text": [
            "enter any string : Eydhttt\n",
            "the character frequency of the given string Thsjjft are :\n",
            "{'e': 1, 'y': 1, 'd': 1, 'h': 1, 't': 3}\n"
          ],
          "name": "stdout"
        }
      ]
    },
    {
      "cell_type": "code",
      "metadata": {
        "colab": {
          "base_uri": "https://localhost:8080/"
        },
        "id": "sKdxUy-aADUV",
        "outputId": "f4b3374e-4c90-4bff-c639-4be4d4bfe5e1"
      },
      "source": [
        " s=input(\"enter any string : \")\n",
        "if s.endswith(\"ing\") :\n",
        "  s+=\"ly\"\n",
        "else :\n",
        "  s+=\"ing\"\n",
        "print(\"modified string : \",s)"
      ],
      "execution_count": null,
      "outputs": [
        {
          "output_type": "stream",
          "text": [
            "enter any string : Djrjdhvdv\n",
            "modified string :  Djrjdhvdving\n"
          ],
          "name": "stdout"
        }
      ]
    },
    {
      "cell_type": "code",
      "metadata": {
        "colab": {
          "base_uri": "https://localhost:8080/"
        },
        "id": "rJcMf9c9ALz9",
        "outputId": "613e855f-dcb5-4ab3-dc74-6af1b6db906b"
      },
      "source": [
        " l=[]\n",
        "n= int(input(\"enter the number of elements in list : \"))\n",
        "for i in range(1,n+1):\n",
        "    x=input()\n",
        "    l.append(x)\n",
        "max=len(l[0])\n",
        "temp=l[0]\n",
        "for j in l:\n",
        "    if(len(j)>max):\n",
        "       max=len(j)\n",
        "       temp=j\n",
        "print(\"the word with the longest length is :\",temp)"
      ],
      "execution_count": null,
      "outputs": [
        {
          "output_type": "stream",
          "text": [
            "enter the number of elements in list : 2\n",
            "Tonu\n",
            "Varghese\n",
            "the word with the longest length is : Varghese\n"
          ],
          "name": "stdout"
        }
      ]
    },
    {
      "cell_type": "code",
      "metadata": {
        "colab": {
          "base_uri": "https://localhost:8080/"
        },
        "id": "t3wL5IWmAUu5",
        "outputId": "bb0f88f5-0576-4f0f-ef16-58e200e7bb1c"
      },
      "source": [
        " for i in range(5):\n",
        "  for j in range(i+1):\n",
        "    print(\"* \",end=\"\")\n",
        "  print()\n",
        "for i in range(4):\n",
        "  for j in range(i, 4):\n",
        "    print(\"* \",end=\"\")\n",
        "  print()"
      ],
      "execution_count": null,
      "outputs": [
        {
          "output_type": "stream",
          "text": [
            "* \n",
            "* * \n",
            "* * * \n",
            "* * * * \n",
            "* * * * * \n",
            "* * * * \n",
            "* * * \n",
            "* * \n",
            "* \n"
          ],
          "name": "stdout"
        }
      ]
    },
    {
      "cell_type": "code",
      "metadata": {
        "colab": {
          "base_uri": "https://localhost:8080/"
        },
        "id": "HPLl7GP9AaCz",
        "outputId": "7204cf03-08b4-429d-a818-98f0c863c2dd"
      },
      "source": [
        " n=int(input(\"enter any number : \"))\n",
        "i=1\n",
        "print(\"all factors of\",n,\"are :\")\n",
        "while i<=n:\n",
        "  if n%i==0:\n",
        "    print(i)\n",
        "  i=i+1"
      ],
      "execution_count": null,
      "outputs": [
        {
          "output_type": "stream",
          "text": [
            "enter any number : 5\n",
            "all factors of 5 are :\n",
            "1\n",
            "5\n"
          ],
          "name": "stdout"
        }
      ]
    },
    {
      "cell_type": "code",
      "metadata": {
        "colab": {
          "base_uri": "https://localhost:8080/"
        },
        "id": "phPc-pmtAgCr",
        "outputId": "77c7f064-e11f-4973-cfd3-02cc30a85131"
      },
      "source": [
        " a=int(input(\"enter the side of square : \"))\n",
        "sq_area=lambda a:a**2\n",
        "print(\"area of the square is : \",sq_area(a))\n",
        "l=int(input(\"enter length : \"))\n",
        "w=int(input(\"enter width : \"))\n",
        "rect_area=lambda l,w : l*w\n",
        "print(\"area of the rectangle is : \",rect_area(l,w))\n",
        "a=int(input(\"enter the value of first side : \"))\n",
        "b=int(input(\"enter the value of second side : \"))\n",
        "c=int(input(\"enter the value of third side : \"))\n",
        "s=(a+b+c)/2\n",
        "t_area=lambda s,a,b,c : (s*(s-a)*(s-b)*(s-c))**0.5\n",
        "print(\"area of triangle :\",t_area(s,a,b,c))"
      ],
      "execution_count": null,
      "outputs": [
        {
          "output_type": "stream",
          "text": [
            "enter the side of square : 4\n",
            "area of the square is :  16\n",
            "enter length : 3\n",
            "enter width : 2\n",
            "area of the rectangle is :  6\n",
            "enter the value of first side : 3\n",
            "enter the value of second side : 4\n",
            "enter the value of third side : 5\n",
            "area of triangle : 6.0\n"
          ],
          "name": "stdout"
        }
      ]
    }
  ]
}